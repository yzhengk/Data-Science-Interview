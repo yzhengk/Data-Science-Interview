{
 "cells": [
  {
   "cell_type": "code",
   "execution_count": 1,
   "id": "personal-mission",
   "metadata": {},
   "outputs": [],
   "source": [
    "arr = [3,5,6,7,8,9,11,1,4,6,77]"
   ]
  },
  {
   "cell_type": "code",
   "execution_count": 13,
   "id": "experimental-brave",
   "metadata": {},
   "outputs": [],
   "source": [
    "def quicksort(arr):\n",
    "    elements = len(arr)\n",
    "    \n",
    "    if elements < 2:\n",
    "        return arr\n",
    "    \n",
    "    current = 0\n",
    "    \n",
    "    for i in range (1, elements):\n",
    "        if arr[i]<= arr[0]:\n",
    "            current += 1\n",
    "            temp = arr[i]\n",
    "            arr[i]=arr[current]\n",
    "            arr[current]=temp\n",
    "            \n",
    "    temp = arr[0]\n",
    "    arr[0]=arr[current]\n",
    "    arr[current]=temp\n",
    "    \n",
    "    left = quicksort(arr[0:current])\n",
    "    right = quicksort(arr[current + 1:elements])\n",
    "    \n",
    "    arr = left + [arr[current]] + right\n",
    "    \n",
    "    return arr\n",
    "    "
   ]
  },
  {
   "cell_type": "code",
   "execution_count": 14,
   "id": "photographic-finish",
   "metadata": {},
   "outputs": [
    {
     "data": {
      "text/plain": [
       "[1, 3, 4, 5, 6, 6, 7, 8, 9, 11, 77]"
      ]
     },
     "execution_count": 14,
     "metadata": {},
     "output_type": "execute_result"
    }
   ],
   "source": [
    "quicksort(arr)"
   ]
  },
  {
   "cell_type": "code",
   "execution_count": 11,
   "id": "discrete-dynamics",
   "metadata": {},
   "outputs": [],
   "source": [
    "def QuickSort(arr):\n",
    "\n",
    "    elements = len(arr)\n",
    "    \n",
    "    #Base case\n",
    "    if elements < 2:\n",
    "        return arr\n",
    "    \n",
    "    current_position = 0 #Position of the partitioning element\n",
    "\n",
    "    for i in range(1, elements): #Partitioning loop\n",
    "         if arr[i] <= arr[0]:\n",
    "              current_position += 1\n",
    "              temp = arr[i]\n",
    "              arr[i] = arr[current_position]\n",
    "              arr[current_position] = temp\n",
    "\n",
    "    temp = arr[0]\n",
    "    arr[0] = arr[current_position] \n",
    "    arr[current_position] = temp #Brings pivot to it's appropriate position\n",
    "    \n",
    "    left = QuickSort(arr[0:current_position]) #Sorts the elements to the left of pivot\n",
    "    right = QuickSort(arr[current_position+1:elements]) #sorts the elements to the right of pivot\n",
    "\n",
    "    arr = left + [arr[current_position]] + right #Merging everything together\n",
    "    \n",
    "    return arr"
   ]
  },
  {
   "cell_type": "code",
   "execution_count": 12,
   "id": "silver-dimension",
   "metadata": {},
   "outputs": [
    {
     "data": {
      "text/plain": [
       "[1, 3, 4, 5, 6, 6, 7, 8, 9, 11, 77]"
      ]
     },
     "execution_count": 12,
     "metadata": {},
     "output_type": "execute_result"
    }
   ],
   "source": [
    "QuickSort(arr)"
   ]
  },
  {
   "cell_type": "code",
   "execution_count": null,
   "id": "theoretical-patrol",
   "metadata": {},
   "outputs": [],
   "source": []
  }
 ],
 "metadata": {
  "kernelspec": {
   "display_name": "Python 3",
   "language": "python",
   "name": "python3"
  },
  "language_info": {
   "codemirror_mode": {
    "name": "ipython",
    "version": 3
   },
   "file_extension": ".py",
   "mimetype": "text/x-python",
   "name": "python",
   "nbconvert_exporter": "python",
   "pygments_lexer": "ipython3",
   "version": "3.9.2"
  }
 },
 "nbformat": 4,
 "nbformat_minor": 5
}
