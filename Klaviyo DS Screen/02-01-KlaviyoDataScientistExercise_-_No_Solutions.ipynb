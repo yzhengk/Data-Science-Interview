{
 "cells": [
  {
   "cell_type": "markdown",
   "metadata": {},
   "source": [
    "### Klaviyo Exercise\n",
    "In order to remove bias, we have anonymized this step of the interview process. \n",
    "\n",
    " * **Please do not deanonymize yourself in this jupyter notebook**.\n",
    " * **Please write your code and solutions in this notebook and return it to us when you are finished**."
   ]
  },
  {
   "cell_type": "markdown",
   "metadata": {},
   "source": [
    "### Interpreting the Orders Dataset\n",
    "\n",
    "For questions 1, 2, and 3, you will work with sales data from a marketplace with several stores. The attached CSV, `screening_exercise_orders_v202102.csv`, lists the customer, date, and dollar value of orders placed in 2017. The gender of each customer is also provided. Please do not excluded $0 orders. "
   ]
  },
  {
   "cell_type": "markdown",
   "metadata": {},
   "source": [
    "### Exercise 1\n",
    "\n",
    "Assemble a dataframe with one row per customer and the following columns:\n",
    "* customer_id \n",
    "* gender\n",
    "* most_recent_order_date \n",
    "* order_count (number of orders placed by this customer)\n",
    "\n",
    "Sort the dataframe by customer_id ascending and display the first 10 rows."
   ]
  },
  {
   "cell_type": "code",
   "execution_count": null,
   "metadata": {},
   "outputs": [],
   "source": []
  },
  {
   "cell_type": "markdown",
   "metadata": {},
   "source": [
    "### Exercise 2\n",
    "Plot the count of orders per week (for all stores together). Do not use plotly, as plotly graphs in Jupyter Notebooks don't render correctly on different machines."
   ]
  },
  {
   "cell_type": "code",
   "execution_count": null,
   "metadata": {},
   "outputs": [],
   "source": []
  },
  {
   "cell_type": "markdown",
   "metadata": {},
   "source": [
    "### Exercise 3\n",
    "\n",
    "Compute the mean order value for gender 0 and for gender 1. Do you think the difference is significant? \n",
    "\n",
    "**Justify your choice of method and state any assumptions you make. Make sure you are clear about why your method is suitable for this dataset, in particular.**."
   ]
  },
  {
   "cell_type": "code",
   "execution_count": null,
   "metadata": {},
   "outputs": [],
   "source": []
  },
  {
   "cell_type": "markdown",
   "metadata": {},
   "source": [
    "### Interpreting the Product Dataset\n",
    "For this question you will work with the data in the CSV `screening_exercise_products_v202102.csv`. This dataset shows the number of times a particular item was sold. It contains the following columns: \n",
    "* number_of_orders - the number of orders containing the product\n",
    "* store_id - the ID of the store selling the product\n",
    "* product_id - the ID of the product itself\n",
    "* is_red - whether the product is red."
   ]
  },
  {
   "cell_type": "markdown",
   "metadata": {},
   "source": [
    "### Exercise 4\n",
    "\n",
    "Suppose some of our customers came to us with the belief that the color red generates more sales than other colors.  Based on this dataset, would you suggest that companies color more of their products red? Why or why not, and what other factors could be important to determine this? \n",
    "\n",
    "**Please justify your answer and state any assumptions you make.**"
   ]
  },
  {
   "cell_type": "code",
   "execution_count": null,
   "metadata": {},
   "outputs": [],
   "source": []
  },
  {
   "cell_type": "markdown",
   "metadata": {},
   "source": [
    "### Exercise 5\n",
    "\n",
    "Describe one of your favorite tools or techniques and give a small example of how it has helped you solve a problem. Limit your answer to one short paragraph, and please be specific. "
   ]
  },
  {
   "cell_type": "code",
   "execution_count": null,
   "metadata": {},
   "outputs": [],
   "source": []
  }
 ],
 "metadata": {
  "kernelspec": {
   "display_name": "Python 3",
   "language": "python",
   "name": "python3"
  },
  "language_info": {
   "codemirror_mode": {
    "name": "ipython",
    "version": 3
   },
   "file_extension": ".py",
   "mimetype": "text/x-python",
   "name": "python",
   "nbconvert_exporter": "python",
   "pygments_lexer": "ipython3",
   "version": "3.6.9"
  }
 },
 "nbformat": 4,
 "nbformat_minor": 2
}
