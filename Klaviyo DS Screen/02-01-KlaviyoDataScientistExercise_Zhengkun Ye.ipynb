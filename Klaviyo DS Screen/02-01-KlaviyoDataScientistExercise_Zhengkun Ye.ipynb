{
 "cells": [
  {
   "cell_type": "markdown",
   "metadata": {},
   "source": [
    "### Klaviyo Exercise\n",
    "In order to remove bias, we have anonymized this step of the interview process. \n",
    "\n",
    " * **Please do not deanonymize yourself in this jupyter notebook**.\n",
    " * **Please write your code and solutions in this notebook and return it to us when you are finished**."
   ]
  },
  {
   "cell_type": "markdown",
   "metadata": {},
   "source": [
    "### Interpreting the Orders Dataset\n",
    "\n",
    "For questions 1, 2, and 3, you will work with sales data from a marketplace with several stores. The attached CSV, `screening_exercise_orders_v202102.csv`, lists the customer, date, and dollar value of orders placed in 2017. The gender of each customer is also provided. Please do not excluded $0 orders. "
   ]
  },
  {
   "cell_type": "markdown",
   "metadata": {},
   "source": [
    "### Exercise 1\n",
    "\n",
    "Assemble a dataframe with one row per customer and the following columns:\n",
    "* customer_id \n",
    "* gender\n",
    "* most_recent_order_date \n",
    "* order_count (number of orders placed by this customer)\n",
    "\n",
    "Sort the dataframe by customer_id ascending and display the first 10 rows."
   ]
  },
  {
   "cell_type": "code",
   "execution_count": 18,
   "metadata": {
    "scrolled": true
   },
   "outputs": [
    {
     "data": {
      "text/html": [
       "<div>\n",
       "<style scoped>\n",
       "    .dataframe tbody tr th:only-of-type {\n",
       "        vertical-align: middle;\n",
       "    }\n",
       "\n",
       "    .dataframe tbody tr th {\n",
       "        vertical-align: top;\n",
       "    }\n",
       "\n",
       "    .dataframe thead th {\n",
       "        text-align: right;\n",
       "    }\n",
       "</style>\n",
       "<table border=\"1\" class=\"dataframe\">\n",
       "  <thead>\n",
       "    <tr style=\"text-align: right;\">\n",
       "      <th></th>\n",
       "      <th>customer_id</th>\n",
       "      <th>gender</th>\n",
       "      <th>date</th>\n",
       "      <th>value</th>\n",
       "    </tr>\n",
       "  </thead>\n",
       "  <tbody>\n",
       "    <tr>\n",
       "      <th>0</th>\n",
       "      <td>1000</td>\n",
       "      <td>0</td>\n",
       "      <td>2017-01-01 00:11:31</td>\n",
       "      <td>198.50</td>\n",
       "    </tr>\n",
       "    <tr>\n",
       "      <th>1</th>\n",
       "      <td>1001</td>\n",
       "      <td>0</td>\n",
       "      <td>2017-01-01 00:29:56</td>\n",
       "      <td>338.00</td>\n",
       "    </tr>\n",
       "    <tr>\n",
       "      <th>2</th>\n",
       "      <td>1002</td>\n",
       "      <td>1</td>\n",
       "      <td>2017-01-01 01:30:31</td>\n",
       "      <td>733.00</td>\n",
       "    </tr>\n",
       "    <tr>\n",
       "      <th>3</th>\n",
       "      <td>1003</td>\n",
       "      <td>1</td>\n",
       "      <td>2017-01-01 01:34:22</td>\n",
       "      <td>772.00</td>\n",
       "    </tr>\n",
       "    <tr>\n",
       "      <th>4</th>\n",
       "      <td>1004</td>\n",
       "      <td>0</td>\n",
       "      <td>2017-01-01 03:11:54</td>\n",
       "      <td>508.00</td>\n",
       "    </tr>\n",
       "    <tr>\n",
       "      <th>...</th>\n",
       "      <td>...</td>\n",
       "      <td>...</td>\n",
       "      <td>...</td>\n",
       "      <td>...</td>\n",
       "    </tr>\n",
       "    <tr>\n",
       "      <th>13466</th>\n",
       "      <td>9810</td>\n",
       "      <td>1</td>\n",
       "      <td>2017-12-31 22:16:20</td>\n",
       "      <td>794.44</td>\n",
       "    </tr>\n",
       "    <tr>\n",
       "      <th>13467</th>\n",
       "      <td>9811</td>\n",
       "      <td>1</td>\n",
       "      <td>2017-12-31 22:24:06</td>\n",
       "      <td>148.60</td>\n",
       "    </tr>\n",
       "    <tr>\n",
       "      <th>13468</th>\n",
       "      <td>9812</td>\n",
       "      <td>0</td>\n",
       "      <td>2017-12-31 23:01:10</td>\n",
       "      <td>153.00</td>\n",
       "    </tr>\n",
       "    <tr>\n",
       "      <th>13469</th>\n",
       "      <td>9813</td>\n",
       "      <td>0</td>\n",
       "      <td>2017-12-31 23:11:02</td>\n",
       "      <td>534.00</td>\n",
       "    </tr>\n",
       "    <tr>\n",
       "      <th>13470</th>\n",
       "      <td>8658</td>\n",
       "      <td>0</td>\n",
       "      <td>2017-12-31 23:35:09</td>\n",
       "      <td>306.60</td>\n",
       "    </tr>\n",
       "  </tbody>\n",
       "</table>\n",
       "<p>13471 rows × 4 columns</p>\n",
       "</div>"
      ],
      "text/plain": [
       "       customer_id  gender                 date   value\n",
       "0             1000       0  2017-01-01 00:11:31  198.50\n",
       "1             1001       0  2017-01-01 00:29:56  338.00\n",
       "2             1002       1  2017-01-01 01:30:31  733.00\n",
       "3             1003       1  2017-01-01 01:34:22  772.00\n",
       "4             1004       0  2017-01-01 03:11:54  508.00\n",
       "...            ...     ...                  ...     ...\n",
       "13466         9810       1  2017-12-31 22:16:20  794.44\n",
       "13467         9811       1  2017-12-31 22:24:06  148.60\n",
       "13468         9812       0  2017-12-31 23:01:10  153.00\n",
       "13469         9813       0  2017-12-31 23:11:02  534.00\n",
       "13470         8658       0  2017-12-31 23:35:09  306.60\n",
       "\n",
       "[13471 rows x 4 columns]"
      ]
     },
     "execution_count": 18,
     "metadata": {},
     "output_type": "execute_result"
    }
   ],
   "source": [
    "#View Data at a glance\n",
    "import pandas as pd\n",
    "pd.read_csv(r\"screening_exercise_orders_v202102.csv\")"
   ]
  },
  {
   "cell_type": "code",
   "execution_count": 134,
   "metadata": {},
   "outputs": [
    {
     "name": "stdout",
     "output_type": "stream",
     "text": [
      "   customer_id  gender          latest_date  order_cnt\n",
      "0         1000       0  2017-01-01 00:11:31          1\n",
      "1         1001       0  2017-01-01 00:29:56          1\n",
      "2         1002       1  2017-02-19 21:35:31          3\n",
      "3         1003       1  2017-04-26 02:37:20          4\n",
      "4         1004       0  2017-01-01 03:11:54          1\n",
      "5         1005       1  2017-12-16 01:39:27          2\n",
      "6         1006       1  2017-05-09 15:27:20          3\n",
      "7         1007       0  2017-01-01 15:59:50          1\n",
      "8         1008       0  2017-12-17 05:47:48          3\n",
      "9         1009       1  2017-01-01 19:27:17          1\n"
     ]
    }
   ],
   "source": [
    "#Testing first\n",
    "data = pd.read_csv(r\"screening_exercise_orders_v202102.csv\")\n",
    "exercise1_res = data.groupby(['customer_id', 'gender']).agg(latest_date = ('date', 'max'), order_cnt = ('date', 'count')).reset_index().head(10)\n",
    "print(exercise1_res)"
   ]
  },
  {
   "cell_type": "code",
   "execution_count": 126,
   "metadata": {},
   "outputs": [],
   "source": [
    "#Name modify\n",
    "order_count = data['customer_id'].value_counts()\n",
    "order_count_df = order_count.to_frame().reset_index()\n",
    "order_count_df.columns = ['customer_id','order_count']"
   ]
  },
  {
   "cell_type": "code",
   "execution_count": 127,
   "metadata": {},
   "outputs": [],
   "source": [
    "customer_MRorder = data.groupby(['customer_id','gender'], sort=False)['date'].max()\n",
    "customer_MRorder_df = customer_MRorder.to_frame().reset_index()\n",
    "customer_MRorder_df.columns = ['customer_id','gender','most_recent_order_date']"
   ]
  },
  {
   "cell_type": "code",
   "execution_count": 129,
   "metadata": {},
   "outputs": [
    {
     "name": "stdout",
     "output_type": "stream",
     "text": [
      "First 10 rows of the DataFrame:\n",
      "             gender most_recent_order_date  order_count\n",
      "customer_id                                            \n",
      "1000              0    2017-01-01 00:11:31            1\n",
      "1001              0    2017-01-01 00:29:56            1\n",
      "1002              1    2017-02-19 21:35:31            3\n",
      "1003              1    2017-04-26 02:37:20            4\n",
      "1004              0    2017-01-01 03:11:54            1\n",
      "1005              1    2017-12-16 01:39:27            2\n",
      "1006              1    2017-05-09 15:27:20            3\n",
      "1007              0    2017-01-01 15:59:50            1\n",
      "1008              0    2017-12-17 05:47:48            3\n",
      "1009              1    2017-01-01 19:27:17            1\n"
     ]
    }
   ],
   "source": [
    "#unless specified, the values will be sorted in an ascending order by default\n",
    "customer_dataframe = customer_MRorder_df.set_index('customer_id').join(order_count_df.set_index('customer_id'))\n",
    "result = customer_dataframe.head(10)\n",
    "print(\"First 10 rows of the DataFrame:\")\n",
    "\n",
    "#Ans\n",
    "print(result)"
   ]
  },
  {
   "cell_type": "markdown",
   "metadata": {},
   "source": [
    "### Exercise 2\n",
    "Plot the count of orders per week (for all stores together). Do not use plotly, as plotly graphs in Jupyter Notebooks don't render correctly on different machines."
   ]
  },
  {
   "cell_type": "code",
   "execution_count": 130,
   "metadata": {},
   "outputs": [
    {
     "name": "stderr",
     "output_type": "stream",
     "text": [
      "<ipython-input-130-8b05c405becb>:9: FutureWarning: Series.dt.weekofyear and Series.dt.week have been deprecated.  Please use Series.dt.isocalendar().week instead.\n",
      "  df['weekday'] = pd.to_datetime(df['date']).dt.week\n"
     ]
    }
   ],
   "source": [
    "#Testing for calculating the week number\n",
    "import pandas as pd\n",
    "import numpy as np\n",
    "import matplotlib.pyplot as plt \n",
    "import seaborn as sns\n",
    "\n",
    "df = pd.read_csv(r\"screening_exercise_orders_v202102.csv\")\n",
    "\n",
    "df['weekday'] = pd.to_datetime(df['date']).dt.week\n",
    "\n",
    "import datetime \n",
    "dates = df['date'].values.tolist()\n",
    "dtlist = [datetime.datetime.strptime(x, '%Y-%m-%d %H:%M:%S') for x in dates]\n",
    "week = [x.isocalendar()[1] for x in dtlist]"
   ]
  },
  {
   "cell_type": "code",
   "execution_count": 131,
   "metadata": {},
   "outputs": [
    {
     "name": "stderr",
     "output_type": "stream",
     "text": [
      "<ipython-input-131-96f1c94a9bf0>:4: FutureWarning: Series.dt.weekofyear and Series.dt.week have been deprecated.  Please use Series.dt.isocalendar().week instead.\n",
      "  exercise2_data['nth_week'] = exercise2_data['date'].dt.week\n"
     ]
    }
   ],
   "source": [
    "### generate nth week data based on date \n",
    "exercise2_data = data.copy() \n",
    "exercise2_data['date'] = exercise2_data['date'].astype('datetime64[ns]')\n",
    "exercise2_data['nth_week'] = exercise2_data['date'].dt.week"
   ]
  },
  {
   "cell_type": "code",
   "execution_count": 150,
   "metadata": {},
   "outputs": [
    {
     "data": {
      "image/png": "[encoded data removed]",
      "text/plain": [
       "<Figure size 1152x648 with 1 Axes>"
      ]
     },
     "metadata": {
      "needs_background": "light"
     },
     "output_type": "display_data"
    }
   ],
   "source": [
    "%matplotlib inline \n",
    "ordercnt_weekly = exercise2_data.groupby('nth_week')['date'].count()\n",
    "plt.figure(figsize=(16, 9)) \n",
    "ordercnt_weekly.plot(kind='bar')\n",
    "\n",
    "plt.title('Count of orders per week',fontsize=18)\n",
    "plt.ylabel('Orders count',fontsize=16)\n",
    "plt.xlabel('Week Number',fontsize=16)\n",
    "\n",
    "plt.show() "
   ]
  },
  {
   "cell_type": "code",
   "execution_count": 152,
   "metadata": {},
   "outputs": [
    {
     "data": {
      "image/png": "[encoded data removed]",
      "text/plain": [
       "<Figure size 432x288 with 1 Axes>"
      ]
     },
     "metadata": {
      "needs_background": "light"
     },
     "output_type": "display_data"
    }
   ],
   "source": [
    "ordercnt_weekly.plot(kind='line',color='red')\n",
    "plt.show() "
   ]
  },
  {
   "cell_type": "markdown",
   "metadata": {},
   "source": [
    "### Exercise 3\n",
    "\n",
    "Compute the mean order value for gender 0 and for gender 1. Do you think the difference is significant? \n",
    "\n",
    "**Justify your choice of method and state any assumptions you make. Make sure you are clear about why your method is suitable for this dataset, in particular.**."
   ]
  },
  {
   "cell_type": "code",
   "execution_count": 153,
   "metadata": {},
   "outputs": [
    {
     "name": "stdout",
     "output_type": "stream",
     "text": [
      "   gender   count        mean         std  min     25%    50%    75%     max\n",
      "0       0  6759.0  363.890006  396.533215  0.0  161.93  258.0  434.0  8046.3\n",
      "1       1  6712.0  350.708361  377.504737  0.0  161.20  258.0  416.0  6877.0\n"
     ]
    }
   ],
   "source": [
    "## mean\n",
    "gender_stats = df.groupby('gender')['value'].mean().reset_index()\n",
    "\n",
    "# stats\n",
    "gender_stats = df.groupby('gender')['value'].describe().reset_index()\n",
    "\n",
    "print(gender_stats)\n"
   ]
  },
  {
   "cell_type": "code",
   "execution_count": 155,
   "metadata": {},
   "outputs": [],
   "source": [
    "#Ans:\n",
    "exercise3_data = data.copy()\n",
    "gender0 = exercise3_data[exercise3_data['gender'] == 0]['value'].values\n",
    "gender1 = exercise3_data[exercise3_data['gender'] == 1]['value'].values "
   ]
  },
  {
   "cell_type": "code",
   "execution_count": 165,
   "metadata": {},
   "outputs": [
    {
     "name": "stdout",
     "output_type": "stream",
     "text": [
      "Stats=1.976, p=0.048\n",
      "Different distributions (reject H0)\n"
     ]
    }
   ],
   "source": [
    "# student t test \n",
    "from scipy.stats import ttest_ind\n",
    "stat, p = ttest_ind(gender0, gender1) \n",
    "print('Stats=%.3f, p=%.3f' % (stat, p))\n",
    "\n",
    "alpha = .05\n",
    "print('Same distributions (fail to reject H0)') if p > alpha else print('Different distributions (reject H0)')\n",
    "##     res: \n",
    "##     means of gender 0/1 are different, with a significance of at least 5%."
   ]
  },
  {
   "cell_type": "markdown",
   "metadata": {},
   "source": [
    "### Interpreting the Product Dataset\n",
    "For this question you will work with the data in the CSV `screening_exercise_products_v202102.csv`. This dataset shows the number of times a particular item was sold. It contains the following columns: \n",
    "* number_of_orders - the number of orders containing the product\n",
    "* store_id - the ID of the store selling the product\n",
    "* product_id - the ID of the product itself\n",
    "* is_red - whether the product is red."
   ]
  },
  {
   "cell_type": "markdown",
   "metadata": {},
   "source": [
    "### Exercise 4\n",
    "\n",
    "Suppose some of our customers came to us with the belief that the color red generates more sales than other colors.  Based on this dataset, would you suggest that companies color more of their products red? Why or why not, and what other factors could be important to determine this? \n",
    "\n",
    "**Please justify your answer and state any assumptions you make.**"
   ]
  },
  {
   "cell_type": "code",
   "execution_count": 166,
   "metadata": {},
   "outputs": [],
   "source": [
    "data = pd.read_csv('screening_exercise_products_v202102.csv')"
   ]
  },
  {
   "cell_type": "code",
   "execution_count": 172,
   "metadata": {},
   "outputs": [
    {
     "data": {
      "text/html": [
       "<div>\n",
       "<style scoped>\n",
       "    .dataframe tbody tr th:only-of-type {\n",
       "        vertical-align: middle;\n",
       "    }\n",
       "\n",
       "    .dataframe tbody tr th {\n",
       "        vertical-align: top;\n",
       "    }\n",
       "\n",
       "    .dataframe thead th {\n",
       "        text-align: right;\n",
       "    }\n",
       "</style>\n",
       "<table border=\"1\" class=\"dataframe\">\n",
       "  <thead>\n",
       "    <tr style=\"text-align: right;\">\n",
       "      <th></th>\n",
       "      <th>store_id</th>\n",
       "      <th>product_id</th>\n",
       "      <th>is_red</th>\n",
       "      <th>number_of_orders</th>\n",
       "    </tr>\n",
       "  </thead>\n",
       "  <tbody>\n",
       "    <tr>\n",
       "      <th>0</th>\n",
       "      <td>0</td>\n",
       "      <td>0</td>\n",
       "      <td>True</td>\n",
       "      <td>15</td>\n",
       "    </tr>\n",
       "    <tr>\n",
       "      <th>1</th>\n",
       "      <td>0</td>\n",
       "      <td>100</td>\n",
       "      <td>True</td>\n",
       "      <td>37</td>\n",
       "    </tr>\n",
       "    <tr>\n",
       "      <th>2</th>\n",
       "      <td>0</td>\n",
       "      <td>200</td>\n",
       "      <td>True</td>\n",
       "      <td>36</td>\n",
       "    </tr>\n",
       "    <tr>\n",
       "      <th>3</th>\n",
       "      <td>0</td>\n",
       "      <td>300</td>\n",
       "      <td>False</td>\n",
       "      <td>11</td>\n",
       "    </tr>\n",
       "    <tr>\n",
       "      <th>4</th>\n",
       "      <td>0</td>\n",
       "      <td>400</td>\n",
       "      <td>False</td>\n",
       "      <td>10</td>\n",
       "    </tr>\n",
       "    <tr>\n",
       "      <th>...</th>\n",
       "      <td>...</td>\n",
       "      <td>...</td>\n",
       "      <td>...</td>\n",
       "      <td>...</td>\n",
       "    </tr>\n",
       "    <tr>\n",
       "      <th>2995</th>\n",
       "      <td>29</td>\n",
       "      <td>29950</td>\n",
       "      <td>False</td>\n",
       "      <td>16</td>\n",
       "    </tr>\n",
       "    <tr>\n",
       "      <th>2996</th>\n",
       "      <td>29</td>\n",
       "      <td>29960</td>\n",
       "      <td>True</td>\n",
       "      <td>14</td>\n",
       "    </tr>\n",
       "    <tr>\n",
       "      <th>2997</th>\n",
       "      <td>29</td>\n",
       "      <td>29970</td>\n",
       "      <td>False</td>\n",
       "      <td>26</td>\n",
       "    </tr>\n",
       "    <tr>\n",
       "      <th>2998</th>\n",
       "      <td>29</td>\n",
       "      <td>29980</td>\n",
       "      <td>True</td>\n",
       "      <td>10</td>\n",
       "    </tr>\n",
       "    <tr>\n",
       "      <th>2999</th>\n",
       "      <td>29</td>\n",
       "      <td>29990</td>\n",
       "      <td>True</td>\n",
       "      <td>42</td>\n",
       "    </tr>\n",
       "  </tbody>\n",
       "</table>\n",
       "<p>3000 rows × 4 columns</p>\n",
       "</div>"
      ],
      "text/plain": [
       "      store_id  product_id  is_red  number_of_orders\n",
       "0            0           0    True                15\n",
       "1            0         100    True                37\n",
       "2            0         200    True                36\n",
       "3            0         300   False                11\n",
       "4            0         400   False                10\n",
       "...        ...         ...     ...               ...\n",
       "2995        29       29950   False                16\n",
       "2996        29       29960    True                14\n",
       "2997        29       29970   False                26\n",
       "2998        29       29980    True                10\n",
       "2999        29       29990    True                42\n",
       "\n",
       "[3000 rows x 4 columns]"
      ]
     },
     "execution_count": 172,
     "metadata": {},
     "output_type": "execute_result"
    }
   ],
   "source": [
    "data"
   ]
  },
  {
   "cell_type": "code",
   "execution_count": 167,
   "metadata": {},
   "outputs": [],
   "source": [
    "isred = data.groupby('is_red')['number_of_orders'].describe().reset_index()"
   ]
  },
  {
   "cell_type": "code",
   "execution_count": 168,
   "metadata": {},
   "outputs": [],
   "source": [
    "isred_sum = data.groupby('is_red')['number_of_orders'].sum().reset_index()"
   ]
  },
  {
   "cell_type": "code",
   "execution_count": 169,
   "metadata": {},
   "outputs": [
    {
     "data": {
      "text/html": [
       "<div>\n",
       "<style scoped>\n",
       "    .dataframe tbody tr th:only-of-type {\n",
       "        vertical-align: middle;\n",
       "    }\n",
       "\n",
       "    .dataframe tbody tr th {\n",
       "        vertical-align: top;\n",
       "    }\n",
       "\n",
       "    .dataframe thead th {\n",
       "        text-align: right;\n",
       "    }\n",
       "</style>\n",
       "<table border=\"1\" class=\"dataframe\">\n",
       "  <thead>\n",
       "    <tr style=\"text-align: right;\">\n",
       "      <th></th>\n",
       "      <th>is_red</th>\n",
       "      <th>count</th>\n",
       "      <th>mean</th>\n",
       "      <th>std</th>\n",
       "      <th>min</th>\n",
       "      <th>25%</th>\n",
       "      <th>50%</th>\n",
       "      <th>75%</th>\n",
       "      <th>max</th>\n",
       "    </tr>\n",
       "  </thead>\n",
       "  <tbody>\n",
       "    <tr>\n",
       "      <th>0</th>\n",
       "      <td>False</td>\n",
       "      <td>1456.0</td>\n",
       "      <td>23.351648</td>\n",
       "      <td>9.000800</td>\n",
       "      <td>2.0</td>\n",
       "      <td>17.0</td>\n",
       "      <td>22.0</td>\n",
       "      <td>29.0</td>\n",
       "      <td>59.0</td>\n",
       "    </tr>\n",
       "    <tr>\n",
       "      <th>1</th>\n",
       "      <td>True</td>\n",
       "      <td>1544.0</td>\n",
       "      <td>26.153497</td>\n",
       "      <td>10.111902</td>\n",
       "      <td>5.0</td>\n",
       "      <td>19.0</td>\n",
       "      <td>25.0</td>\n",
       "      <td>32.0</td>\n",
       "      <td>64.0</td>\n",
       "    </tr>\n",
       "  </tbody>\n",
       "</table>\n",
       "</div>"
      ],
      "text/plain": [
       "   is_red   count       mean        std  min   25%   50%   75%   max\n",
       "0   False  1456.0  23.351648   9.000800  2.0  17.0  22.0  29.0  59.0\n",
       "1    True  1544.0  26.153497  10.111902  5.0  19.0  25.0  32.0  64.0"
      ]
     },
     "execution_count": 169,
     "metadata": {},
     "output_type": "execute_result"
    }
   ],
   "source": [
    "isred"
   ]
  },
  {
   "cell_type": "code",
   "execution_count": 170,
   "metadata": {},
   "outputs": [
    {
     "data": {
      "text/html": [
       "<div>\n",
       "<style scoped>\n",
       "    .dataframe tbody tr th:only-of-type {\n",
       "        vertical-align: middle;\n",
       "    }\n",
       "\n",
       "    .dataframe tbody tr th {\n",
       "        vertical-align: top;\n",
       "    }\n",
       "\n",
       "    .dataframe thead th {\n",
       "        text-align: right;\n",
       "    }\n",
       "</style>\n",
       "<table border=\"1\" class=\"dataframe\">\n",
       "  <thead>\n",
       "    <tr style=\"text-align: right;\">\n",
       "      <th></th>\n",
       "      <th>is_red</th>\n",
       "      <th>number_of_orders</th>\n",
       "    </tr>\n",
       "  </thead>\n",
       "  <tbody>\n",
       "    <tr>\n",
       "      <th>0</th>\n",
       "      <td>False</td>\n",
       "      <td>34000</td>\n",
       "    </tr>\n",
       "    <tr>\n",
       "      <th>1</th>\n",
       "      <td>True</td>\n",
       "      <td>40381</td>\n",
       "    </tr>\n",
       "  </tbody>\n",
       "</table>\n",
       "</div>"
      ],
      "text/plain": [
       "   is_red  number_of_orders\n",
       "0   False             34000\n",
       "1    True             40381"
      ]
     },
     "execution_count": 170,
     "metadata": {},
     "output_type": "execute_result"
    }
   ],
   "source": [
    "isred_sum"
   ]
  },
  {
   "cell_type": "code",
   "execution_count": 171,
   "metadata": {},
   "outputs": [
    {
     "data": {
      "text/html": [
       "<div>\n",
       "<style scoped>\n",
       "    .dataframe tbody tr th:only-of-type {\n",
       "        vertical-align: middle;\n",
       "    }\n",
       "\n",
       "    .dataframe tbody tr th {\n",
       "        vertical-align: top;\n",
       "    }\n",
       "\n",
       "    .dataframe thead th {\n",
       "        text-align: right;\n",
       "    }\n",
       "</style>\n",
       "<table border=\"1\" class=\"dataframe\">\n",
       "  <thead>\n",
       "    <tr style=\"text-align: right;\">\n",
       "      <th></th>\n",
       "      <th>store_id</th>\n",
       "      <th>product_id</th>\n",
       "      <th>is_red</th>\n",
       "      <th>number_of_orders</th>\n",
       "    </tr>\n",
       "  </thead>\n",
       "  <tbody>\n",
       "    <tr>\n",
       "      <th>store_id</th>\n",
       "      <td>1.000000</td>\n",
       "      <td>0.999921</td>\n",
       "      <td>-0.007870</td>\n",
       "      <td>-0.005074</td>\n",
       "    </tr>\n",
       "    <tr>\n",
       "      <th>product_id</th>\n",
       "      <td>0.999921</td>\n",
       "      <td>1.000000</td>\n",
       "      <td>-0.007961</td>\n",
       "      <td>-0.005286</td>\n",
       "    </tr>\n",
       "    <tr>\n",
       "      <th>is_red</th>\n",
       "      <td>-0.007870</td>\n",
       "      <td>-0.007961</td>\n",
       "      <td>1.000000</td>\n",
       "      <td>0.144552</td>\n",
       "    </tr>\n",
       "    <tr>\n",
       "      <th>number_of_orders</th>\n",
       "      <td>-0.005074</td>\n",
       "      <td>-0.005286</td>\n",
       "      <td>0.144552</td>\n",
       "      <td>1.000000</td>\n",
       "    </tr>\n",
       "  </tbody>\n",
       "</table>\n",
       "</div>"
      ],
      "text/plain": [
       "                  store_id  product_id    is_red  number_of_orders\n",
       "store_id          1.000000    0.999921 -0.007870         -0.005074\n",
       "product_id        0.999921    1.000000 -0.007961         -0.005286\n",
       "is_red           -0.007870   -0.007961  1.000000          0.144552\n",
       "number_of_orders -0.005074   -0.005286  0.144552          1.000000"
      ]
     },
     "execution_count": 171,
     "metadata": {},
     "output_type": "execute_result"
    }
   ],
   "source": [
    "data.corr()"
   ]
  },
  {
   "cell_type": "markdown",
   "metadata": {},
   "source": [
    "I think I would suggest the company to put more red color products on sale since I may find out that the number of \"red orders\" was more than the number of all other orders from the dataset I had. Red is more effective for impulse purchases in my data anslysis. There were different types of data in form like store would be the categorical data which might need encoding, for me, I would consider correlation as well to make the prediction.\n",
    "\n",
    "It is a open question. In order to get better result, we can complete the whole machine learning process in seven steps for the project including gathering data, preparing the data, model selection, training, evaluation, parameter/hyperparameter tuning, and prediction. Also, we can even do A/B testing to compare red with other optional color."
   ]
  },
  {
   "cell_type": "markdown",
   "metadata": {},
   "source": [
    "### Exercise 5\n",
    "\n",
    "Describe one of your favorite tools or techniques and give a small example of how it has helped you solve a problem. Limit your answer to one short paragraph, and please be specific. "
   ]
  },
  {
   "cell_type": "markdown",
   "metadata": {},
   "source": [
    "I think Airflow would be a good tool to solve big data problems with python API. We may use plugins to support various jobs like ETL, also including data processing jobs: Hive, Pig (although you can also submit them via shell commands), and general process management triggered by the file db Entry/S3, or wait for a Web endpoint The expected output, but it also provides a really nice UI that allows you to check the DAG (workflow dependency) through code/graphics and monitor the real-time execution of the job. Airflow Github repository has a wide range of connectors to external systems, I had used it to store the data on a Hadoop cluster and triggered a AWS SageMaker training job at the same time conveniently."
   ]
  }
 ],
 "metadata": {
  "kernelspec": {
   "display_name": "Python 3",
   "language": "python",
   "name": "python3"
  },
  "language_info": {
   "codemirror_mode": {
    "name": "ipython",
    "version": 3
   },
   "file_extension": ".py",
   "mimetype": "text/x-python",
   "name": "python",
   "nbconvert_exporter": "python",
   "pygments_lexer": "ipython3",
   "version": "3.9.2"
  }
 },
 "nbformat": 4,
 "nbformat_minor": 2
}
