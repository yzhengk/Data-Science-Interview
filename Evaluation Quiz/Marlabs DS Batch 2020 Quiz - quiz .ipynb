{
 "cells": [
  {
   "cell_type": "markdown",
   "metadata": {},
   "source": [
    "# DS Batch 2020 Quiz - Python\n",
    "\n",
    "**Student Name:** \n",
    "\n",
    "**Student Email:**\n",
    "\n",
    "You will be asked to solve the following problems; each one focuses on different data science skill such as data access, data transformation, hypothesis testing, model evaluation, and lastly, you will be asked to interpret a report and make a recommendation. Please submit the `.ipynb` and `.html` version of you code and send to Disha.  "
   ]
  },
  {
   "cell_type": "markdown",
   "metadata": {},
   "source": [
    "## Question 1: Data Access\n",
    "\n",
    "An often encountered step to data pre-processing usually involves querying data that exists within a relational database system. Typically such data may be transactional in nature, and as a result, it is optimized for a relational data model. While this format is critical for performance, efficient storage, and quick updates, it is often not suitable for data science work. In this next question, you will be asked to access data from a fictitious relational database and perform query operations to get it into a suitable format for analysis. The required output for this question is the correct SQL code and query results, you may use any dialect of SQL you wish, but submissions in any other language will be considered incorrect.\n",
    "\n",
    "You have been granted access to a database that contains two tables; `Order_Detail` and `Product_Detail` that are stored in a relational format.  `Order_Detail` contains transactional information and possesses the following schema:\n",
    "\n",
    "#### Table Order_Detail Schema\n",
    "\n",
    "> **invoice_id:** The unique id for each transaction.\n",
    ">\n",
    "> **invoice_line:** A unique id for each item sold with each transaction (ie, multiple items can be purchased with each invoice.)\n",
    ">\n",
    "> **store_id:** The store where transaction took place.\n",
    ">\n",
    "> **time_stamp:** The date of the purchase.\n",
    ">\n",
    "> **product:** The unique id for the product sold within the transaction (every product sold has a unique product id.)\n",
    ">\n",
    "> **units:** The number of the products sold with the transaction (ie, you could purchase 2 of the same item.)\n",
    ">\n",
    "> **sales:** The gross sales for the item sold.\n",
    ">\n",
    "> **cogs:** The cost of the item sold (i.e. not the cost to the customer, but the cost to the business for the product.)\n",
    "\n",
    "| invoice_id | invoice_line | store_id | time_stamp | product | units | sales  | cogs  | \n",
    "|------------|--------------|----------|------------|---------|-------|--------|-------| \n",
    "| 10000001   | 31215        | 3        | 9/3/17     | 3000    | 1     | 99.99  | 58.00 | \n",
    "| 10000001   | 31216        | 3        | 9/3/17     | 3354H   | 3     | 32.99  | 18.00 | \n",
    "| 10000002   | 91455        | 1        | 9/5/17     | 1234    | 2     | 24.99  | 20.00 | \n",
    "| 10000003   | 59943        | 2        | 9/5/17     | 3000    | 1     | 19.99  | 14.99 | \n",
    "| 10000004   | 95027        | 2        | 9/5/17     | 18518   | 1     | 9.99   | 3.00  | \n",
    "| 10000005   | 73994        | 2        | 9/5/17     | 12HA12  | 15    | 3.99   | 1.99  | \n",
    "| 10000006   | 98464        | 1        | 10/1/17    | wh30000 | 1     | 199.99 | 75.00 | \n",
    "\n",
    "\n",
    "#### Table Product_Detail Schema\n",
    "> **product:** The unique id for the product sold within the transaction (every product sold has a unique product id.)\n",
    ">\n",
    "> **cat_name:** The listed name for a given product category.\n",
    ">\n",
    "> **key_internal:** No documentation exists for this field. \n",
    "\n",
    "| product | cat_name | key_internal|\n",
    "|---------|--------- |  ---------  |\n",
    "| 3000    | WidgetA  |  17375273   |\n",
    "| 3354H   | WidgetB  |  15477787   |\n",
    "| 1234    | WidgetC  |  97845235   |\n",
    "| 18518   | WidgetD  |  47813334   |\n",
    "| 12HA12  | WidgetD  |  48573988   |\n",
    "| wh30000 | WidgetE  |  00000000   |\n",
    "\n",
    "Your task is to construct a single SQL query that returns the following results:\n",
    "\n",
    "> Summarized total sales, total quantity sold, and total profit (which can be calculated as total sales less cogs) by the week number, store id, product category name.  It is important to note that in this business, the week begins on a *Tuesday*.  \n",
    "\n",
    "*Hint:*  The week number is the week portion of a date value, from 0 to 53. \n",
    "\n"
   ]
  },
  {
   "cell_type": "markdown",
   "metadata": {},
   "source": [
    "The following SQL code has been provided if you choose to create these tables in a test database.\n",
    "\n",
    "```sql\n",
    "--clean up existing tables\n",
    "DROP TABLE IF EXISTS Order_Detail;\n",
    "DROP TABLE IF EXISTS Product_Detail;\n",
    "\n",
    "--create order table and populate records\n",
    "CREATE TABLE IF NOT EXISTS Order_Detail (\n",
    "    invoice_id INTEGER NOT NULL,\n",
    "    invoice_line INTEGER NOT NULL,\n",
    "    store_id INTEGER NOT NULL,\n",
    "    time_stamp DATE NOT NULL,\n",
    "    product VARCHAR(8) NOT NULL,\n",
    "    units INTEGER NOT NULL,\n",
    "    sales NUMERIC(7 , 2 ) NOT NULL,\n",
    "    cogs NUMERIC(5 , 2 ) NOT NULL\n",
    ");\n",
    "\n",
    "INSERT INTO Order_Detail(invoice_id,invoice_line,store_id,time_stamp,product,units,sales,cogs) VALUES (10000001,31215,3,'2017/09/03','3000',1,99.99,58.00);\n",
    "INSERT INTO Order_Detail(invoice_id,invoice_line,store_id,time_stamp,product,units,sales,cogs) VALUES (10000001,31216,3,'2017/09/03','3354H',3,32.99,18.00);\n",
    "INSERT INTO Order_Detail(invoice_id,invoice_line,store_id,time_stamp,product,units,sales,cogs) VALUES (10000002,91455,1,'2017/09/05','1234',2,24.99,20.00);\n",
    "INSERT INTO Order_Detail(invoice_id,invoice_line,store_id,time_stamp,product,units,sales,cogs) VALUES (10000003,59943,2,'2017/09/05','3000',1,19.99,14.99);\n",
    "INSERT INTO Order_Detail(invoice_id,invoice_line,store_id,time_stamp,product,units,sales,cogs) VALUES (10000004,95027,2,'2017/09/05','18518',1,9.99,3.00);\n",
    "INSERT INTO Order_Detail(invoice_id,invoice_line,store_id,time_stamp,product,units,sales,cogs) VALUES (10000005,73994,2,'2017/09/10','12HA12',15,3.99,1.99);\n",
    "INSERT INTO Order_Detail(invoice_id,invoice_line,store_id,time_stamp,product,units,sales,cogs) VALUES (10000006,98464,1,'2017/10/01','wh30000',1,199.99,75.00);\n",
    "\n",
    "--create product table and populate records\n",
    "CREATE TABLE IF NOT EXISTS Product_Detail (\n",
    "    product VARCHAR(8) NOT NULL,\n",
    "    cat_name VARCHAR(8) NOT NULL,\n",
    "    key_interal VARCHAR(8) NOT NULL\n",
    ");\n",
    "\n",
    "INSERT INTO Product_Detail(product,cat_name,key_interal) VALUES ('3000','WidgetA','17375273');\n",
    "INSERT INTO Product_Detail(product,cat_name,key_interal) VALUES ('3354H','WidgetB','15477787');\n",
    "INSERT INTO Product_Detail(product,cat_name,key_interal) VALUES ('1234','WidgetC','97845235');\n",
    "INSERT INTO Product_Detail(product,cat_name,key_interal) VALUES ('18518','WidgetD','47813334');\n",
    "INSERT INTO Product_Detail(product,cat_name,key_interal) VALUES ('12HA12','WidgetD','48573988');\n",
    "INSERT INTO Product_Detail(product,cat_name,key_interal) VALUES ('wh30000','WidgetE','00000000');\n",
    "```"
   ]
  },
  {
   "cell_type": "code",
   "execution_count": 3,
   "metadata": {},
   "outputs": [],
   "source": [
    "#Answer to question 1 goes here"
   ]
  },
  {
   "cell_type": "markdown",
   "metadata": {},
   "source": [
    "## Question 2\n",
    "How would you use Python to access the above data and perform these operations?"
   ]
  },
  {
   "cell_type": "code",
   "execution_count": 4,
   "metadata": {},
   "outputs": [],
   "source": [
    "# Either use the code or the human language to answer question 2 here."
   ]
  },
  {
   "cell_type": "markdown",
   "metadata": {},
   "source": [
    "## Question 3: Data Transformation\n",
    "\n",
    "Another common task is to take data that may not be in a usable format and 'wrangle' it into a better representation.  This next question will test your ability to clean and order data.\n",
    "\n",
    "You have been presented with two dataframes: \n",
    "\n",
    "#### Dataframe A: Product Attributes\n",
    "This dataframe contains two columns; the first one is a unique product ID represented by an integer, the second is a string containing a collection of attributes assigned to that product.  \n",
    "\n",
    "| product | tags                 |\n",
    "|---------|----------------------|\n",
    "| 100     | chocolate, sprinkles |\n",
    "| 101     | chocolate, filled    |\n",
    "| 102     | glazed               |\n",
    "\n",
    "\n",
    "#### Dataframe B: Purchase History\n",
    "The second dataframe contains two columns as well; the first one is a string that contains a customer name, the second is an integer that contains a product number.  The product IDs from column two are the same as the product IDs from column one of dataframe A.\n",
    "\n",
    "| customer | product |\n",
    "|----------|---------|\n",
    "| A        | 100     |\n",
    "| A        | 101     |\n",
    "| B        | 101     |\n",
    "| C        | 100     |\n",
    "| C        | 102     |\n",
    "| B        | 101     |\n",
    "| A        | 100     |\n",
    "| C        | 102     |\n",
    "\n",
    "You are asked to create a dataframe matching this format, where the contents of the cells represent the count of occurrences of product attribute by customer.  \n",
    "\n",
    "| customer | chocolate | sprinkles | filled | glazed |\n",
    "|----------|-----------|-----------|--------|--------|\n",
    "| A        | ?         | ?         | ?      | ?      |\n",
    "| B        | ?         | ?         | ?      | ?      |\n",
    "| C        | ?         | ?         | ?      | ?      |\n",
    "\n",
    "\n",
    "After you have completed your code, evaluate it for performance bottlenecks and describe how you would improve the code.  \n",
    "\n"
   ]
  },
  {
   "cell_type": "code",
   "execution_count": 5,
   "metadata": {},
   "outputs": [],
   "source": [
    "import pandas as pd\n",
    "\n",
    "tableA = [(100, 'chocolate, sprinkles'),\n",
    "         (101, 'chocolate, filled'),\n",
    "         (102, 'glazed')]\n",
    "labels = ['product', 'tags']\n",
    "dfA = pd.DataFrame.from_records(tableA, columns=labels)\n",
    "\n",
    "tableB = [('A', 100),\n",
    "           ('A', 101),\n",
    "           ('B', 101),\n",
    "           ('C', 100),\n",
    "           ('C', 102),\n",
    "           ('B', 101),\n",
    "           ('A', 100),\n",
    "           ('C', 102)]\n",
    "labels = ['customer', 'product']\n",
    "dfB = pd.DataFrame.from_records(tableB, columns=labels)"
   ]
  },
  {
   "cell_type": "code",
   "execution_count": 6,
   "metadata": {},
   "outputs": [],
   "source": [
    "#Answer to question 3 goes here"
   ]
  },
  {
   "cell_type": "markdown",
   "metadata": {},
   "source": [
    "## Question 4\n",
    "If the two starting tables were in a relational database or Hadoop cluster and each had a 100 million rows, how might your approach change?"
   ]
  },
  {
   "cell_type": "code",
   "execution_count": 7,
   "metadata": {},
   "outputs": [],
   "source": [
    "# Either use the code or the human language to answer question 2 here."
   ]
  },
  {
   "cell_type": "markdown",
   "metadata": {},
   "source": [
    "## Question 5: Hypothesis Testing\n",
    "This question will test your statistical and reasoning abilities.  You have been asked to analyze the results of a randomized, controlled experiment on a fictitious website and provide a recommendation.  For this experiment, each visitor to the site is randomly exposed to one of four different product images; visitors are then tracked to see which ones make a purchase or not.  Based on the data provided, which version of the image should be selected to be presented to all visitors and why?\n",
    "\n",
    "| image | visitors | purchases \n",
    "|----------|-----------|----------|\n",
    "| A        | 21        | 3        | \n",
    "| B        | 180       | 30       | \n",
    "| C        | 250       | 50       | \n",
    "| D        | 100       | 15       | \n"
   ]
  },
  {
   "cell_type": "code",
   "execution_count": 8,
   "metadata": {},
   "outputs": [],
   "source": [
    "#Answer to question 5 goes here, if you need please use markdown"
   ]
  },
  {
   "cell_type": "markdown",
   "metadata": {},
   "source": [
    "## Question 6\n",
    "How would your analysis change if the visitors and purchase counts numbered in the millions? "
   ]
  },
  {
   "cell_type": "code",
   "execution_count": 9,
   "metadata": {},
   "outputs": [],
   "source": [
    "#Answer to question 6 goes here"
   ]
  },
  {
   "cell_type": "markdown",
   "metadata": {},
   "source": [
    "## Question 7: Model Evaluation\n",
    "\n",
    "In this scenario, you have been presented with the following model summary and asked to evaluate a candidate multiple linear regression model.  Using the diagnostic output and correlation matrix below, determine what is wrong with this model and explain your findings.  \n",
    "\n",
    "*Note:* All of the response and explanatory variables are continuous.\n",
    "\n",
    "**Model Output**\n",
    "\n",
    "<table style=\"text-align:center\"><caption><h3>Multiple Linear Regression Results</h3></caption>\n",
    "<tr><td colspan=\"2\" style=\"border-bottom: 1px solid black\"></td></tr><tr><td style=\"text-align:left\"></td><td><em>Dependent variable: Y1</em></td></tr>\n",
    "<tr><td style=\"text-align:left\">Coefficent</td><td>Estimate (Standard Error)  </td><td> p value</td></tr>\n",
    "<tr><td style=\"text-align:left\">Intercept</td><td>73.539 (-37.905, 184.983)  </td><td> <em>p= 0.21</em></td></tr>\n",
    "<tr><td style=\"text-align:left\">X1</td><td>0.127 (-0.073, 0.326)  </td><td> <em>p=0.22</em></td></tr>\n",
    "<tr><td style=\"text-align:left\">X2</td><td>4.184 (-1.664, 10.031) </td><td>  <em>p=0.17</em></td></tr>\n",
    "<tr><td style=\"text-align:left\">X3</td><td>-4.964 (-10.966, 1.038) </td><td>  <em>p=0.12</em></td></tr>\n",
    "<tr><td style=\"text-align:left\">X4</td><td>-0.665 (-2.980, 1.651) </td><td>  <em>p=0.58</em></td></tr>\n",
    "<tr><td style=\"text-align:left\">X5</td><td>3.855<sup>***</sup> (1.885, 5.824) </td><td>   <em>p=0.01</em></td></tr>\n",
    "<tr><td style=\"text-align:left\">X6</td><td>0.675 (-0.958, 2.308)   </td><td><em>p=0.42</em></td></tr>\n",
    "<tr><td style=\"text-align:left\">X7</td><td>-0.389 (-3.395, 2.616)   </td><td><em>p=0.80</em></td></tr>\n",
    "<tr><td style=\"text-align:left\">X8</td><td>0.077 (-0.034, 0.189)   </td><td><em>p=0.18</em></td></tr>\n",
    "<tr><td colspan=\"2\" style=\"border-bottom: 1px solid black\"></td></tr><tr><td style=\"text-align:left\">N Observations</td><td>38</td></tr>\n",
    "<tr><td style=\"text-align:left\">R<sup>2</sup></td><td>0.529</td></tr>\n",
    "<tr><td style=\"text-align:left\">Adjusted R<sup>2</sup></td><td>0.400</td></tr>\n",
    "<tr><td style=\"text-align:left\">Residual Std. Error</td><td>11.908 (df = 29)</td></tr>\n",
    "<tr><td style=\"text-align:left\">F Statistic</td><td>4.080<sup>***</sup> (df = 8; 29)  <em>p=0.01</em> </td></tr>\n",
    "</table>\n",
    "\n",
    "\n",
    "**Correlation Matrix**\n",
    "\n",
    "The table below shows the correlation coefficients for all possible pairs of variables.\n",
    "\n",
    "\n",
    "\n",
    "|   .     | X1     | X2    | X3     | X4     | X5     | X6     | X7     | X8     | Y1     |\n",
    "|--------|--------|-------|--------|--------|--------|--------|--------|--------|--------|\n",
    "| **X1** | 1      | 0.081 | -0.079 | -0.09  | -0.17  | 0.36   | 0.091  | -0.042 | 0.205  |\n",
    "| **X2** | 0.081  | 1     | 0.828  | 0.829  | 0.776  | 0.698  | 0.573  | 0.784  | -0.64  |\n",
    "| **X3** | -0.079 | 0.828 | 1      | 0.998  | 0.93   | 0.752  | 0.725  | 0.908  | -0.797 |\n",
    "| **X4** | -0.09  | 0.829 | 0.998  | 1      | 0.928  | 0.752  | 0.735  | 0.91   | -0.799 |\n",
    "| **X5** | -0.17  | 0.776 | 0.93   | 0.928  | 1      | 0.625  | 0.607  | 0.812  | -0.731 |\n",
    "| **X6** | 0.36   | 0.698 | 0.752  | 0.752  | 0.625  | 1      | 0.671  | 0.754  | -0.585 |\n",
    "| **X7** | 0.091  | 0.573 | 0.725  | 0.735  | 0.607  | 0.671  | 1      | 0.65   | -0.591 |\n",
    "| **X8** | -0.042 | 0.784 | 0.908  | 0.91   | 0.812  | 0.754  | 0.65   | 1      | -0.787 |\n",
    "| **Y1** | 0.205  | -0.64 | -0.797 | -0.799 | -0.731 | -0.585 | -0.591 | -0.787 | 1      |\n",
    "\n",
    "\n",
    "\n"
   ]
  },
  {
   "cell_type": "code",
   "execution_count": null,
   "metadata": {},
   "outputs": [],
   "source": [
    "# Answer to question 7 goes here"
   ]
  },
  {
   "cell_type": "markdown",
   "metadata": {},
   "source": [
    "## Question 8\n",
    "Describe how the above model can be improved. "
   ]
  },
  {
   "cell_type": "code",
   "execution_count": null,
   "metadata": {},
   "outputs": [],
   "source": [
    "# Answer to question 8 goes here"
   ]
  },
  {
   "cell_type": "markdown",
   "metadata": {},
   "source": [
    "## Question 9: Data Analysis\n",
    "\n",
    "The internet startup ShinyFancyObjects is looking to make its IPO in the next couple months.  Before doing so, its founders are presenting their company to potential investors and analysts with the goal of generating a higher company valuation before going public.  As a Data Scientist at one of these investment firms, you have been asked to help evaluate ShinyFancyObjects and determine if it would be a good investment.  \n",
    "\n",
    "You have been provided two resources to help with your analysis; a company fact sheet provided by ShinyFancyObjects, and a table containing data about their customer history.  Using these two pieces of information, determine if this company would be a good long-term investment, and explain why or why not.\n",
    "\n",
    "\n",
    "**ShinyFancyObjects Fact Sheet; The Hottest Startup Since Facebook**\n",
    "\n",
    "* ShinyFancyObjects posses a customer file of nearly twenty thousand unique customers.  \n",
    "* Since its launch in January 2016, ShinyFancyObjects is growing its customer base by 10%.\n",
    "* There was a new feature release in November of 2016, which was a huge hit with our customers, resulting in a 46% increase in new customers from the prior month.  \n",
    "* The company predicts it will more than double its customer base in the next year.  \n",
    "* The January 2017 gain for new customers was a 120% improvement over of January of 2016. \n",
    "* Since January of 2016, ShinyFancyObjects has grown its customer base by 1,841%.\n",
    "* ShinyFancyObjects boasts a customer retention rate of 58%.  \n",
    "\n",
    "**Customer History**\n",
    "\n",
    "This table shows new customers acquired by month, along with how many of those same customers remained active in the following months.  As an example, in January 2016, 1,098 new customers were acquired.  One month later, out of the initial 1,098, only 875 were still active, two months later, 800 were active, and so on.  Whereas in February of 2016, 1,358 new customers were acquired, of which 500 were still active six months after. \n",
    "\n",
    "| Cohort | Month 0 | Month 1  | Month 2 | Month 3 | Month 4 | Month 5 | Month 6 | Month 7 | Month 8 | Month 9 | Month 10 | Month 11 | Month 12 | Month 13 | \n",
    "|--------|---------|----------|---------|---------|---------|---------|---------|---------|---------|---------|----------|----------|----------|----------| \n",
    "| Jan-16 | 1098    | 875      | 800     | 765     | 552     | 421     | 403     | 382     | 367     | 341     | 295      | 244      | 201      | 185      | \n",
    "| Feb-16 | 1358    | 1019     | 996     | 826     | 713     | 524     | 500     | 495     | 389     | 301     | 257      | 178      | 133      |          | \n",
    "| Mar-16 | 1257    | 892      | 741     | 705     | 648     | 498     | 395     | 205     | 168     | 132     | 121      | 84       |          |          | \n",
    "| Apr-16 | 1587    | 1174     | 924     | 838     | 699     | 354     | 205     | 158     | 104     | 79      | 55       |          |          |          | \n",
    "| May-16 | 1758    | 1213     | 1000    | 751     | 605     | 305     | 165     | 111     | 90      | 65      |          |          |          |          | \n",
    "| Jun-16 | 1624    | 1137     | 954     | 754     | 403     | 248     | 205     | 165     | 100     |         |          |          |          |          | \n",
    "| Jul-16 | 1541    | 1002     | 874     | 621     | 322     | 201     | 168     | 105     |         |         |          |          |          |          | \n",
    "| Aug-16 | 868     | 521      | 499     | 400     | 158     | 118     | 75      |         |         |         |          |          |          |          | \n",
    "| Sep-16 | 1143    | 629      | 451     | 384     | 205     | 100     |         |         |         |         |          |          |          |          | \n",
    "| Oct-16 | 1253    | 639      | 338     | 255     | 117     |         |         |         |         |         |          |          |          |          | \n",
    "| Nov-16 | 1835    | 899      | 241     | 107     |         |         |         |         |         |         |          |          |          |          | \n",
    "| Dec-16 | 2155    | 862      | 205     |         |         |         |         |         |         |         |          |          |          |          | \n",
    "| Jan-17 | 2422    | 848      |         |         |         |         |         |         |         |         |          |          |          |          | \n",
    "| Feb-17 | 2531    |          |         |         |         |         |         |         |         |         |          |          |          |          | \n",
    "\n"
   ]
  },
  {
   "cell_type": "code",
   "execution_count": null,
   "metadata": {},
   "outputs": [],
   "source": [
    "# Answer to question 9 goes here"
   ]
  },
  {
   "cell_type": "markdown",
   "metadata": {},
   "source": [
    "## Question 10\n",
    "What other data sources would be helpful in making your recommendation? "
   ]
  },
  {
   "cell_type": "code",
   "execution_count": null,
   "metadata": {},
   "outputs": [],
   "source": [
    "# Answer to question 10 goes here"
   ]
  }
 ],
 "metadata": {
  "kernelspec": {
   "display_name": "Python 3",
   "language": "python",
   "name": "python3"
  },
  "language_info": {
   "codemirror_mode": {
    "name": "ipython",
    "version": 3
   },
   "file_extension": ".py",
   "mimetype": "text/x-python",
   "name": "python",
   "nbconvert_exporter": "python",
   "pygments_lexer": "ipython3",
   "version": "3.7.4"
  }
 },
 "nbformat": 4,
 "nbformat_minor": 2
}
