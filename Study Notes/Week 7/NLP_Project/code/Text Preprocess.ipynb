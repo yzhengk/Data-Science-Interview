{
 "cells": [
  {
   "cell_type": "code",
   "execution_count": 1,
   "metadata": {},
   "outputs": [],
   "source": [
    "# Import Packages\n",
    "from bs4 import BeautifulSoup\n",
    "import pandas as pd\n",
    "import os\n",
    "import re\n",
    "from gensim import models, corpora\n",
    "from nltk import word_tokenize\n",
    "from nltk.corpus import stopwords, words"
   ]
  },
  {
   "cell_type": "code",
   "execution_count": 2,
   "metadata": {},
   "outputs": [],
   "source": [
    "# Read data from fulltext folder\n",
    "name = []\n",
    "sentence = []\n",
    "for filename in os.listdir(\"corpus/fulltext\"):\n",
    "    with open(\"corpus/fulltext/\" + filename, encoding = \"ISO-8859-1\") as fp:\n",
    "        soup = BeautifulSoup(fp, 'xml')\n",
    "    name_text = soup.find_all(\"name\")\n",
    "    name.append(name_text)\n",
    "    sentence_text = soup.find_all(\"sentence\")\n",
    "    sentence.append(sentence_text)"
   ]
  },
  {
   "cell_type": "code",
   "execution_count": 3,
   "metadata": {},
   "outputs": [],
   "source": [
    "data = pd.DataFrame({'name': name, 'sentence': sentence})"
   ]
  },
  {
   "cell_type": "code",
   "execution_count": 4,
   "metadata": {},
   "outputs": [],
   "source": [
    "# Save the Data\n",
    "data.to_csv(\"data.csv\",',')"
   ]
  },
  {
   "cell_type": "code",
   "execution_count": 5,
   "metadata": {},
   "outputs": [],
   "source": [
    "# Read Data\n",
    "# data = pd.read_csv(\"data.csv\")"
   ]
  },
  {
   "cell_type": "code",
   "execution_count": 6,
   "metadata": {},
   "outputs": [],
   "source": [
    "# Remove the <name> tag\n",
    "for i in range(len(data)):\n",
    "        temp = str(data.iloc[i,0])\n",
    "        temp = temp.replace(\"<name>\", \"\")\n",
    "        temp = temp.replace(\"</name\", \"\")\n",
    "        data.iloc[i,0] = temp"
   ]
  },
  {
   "cell_type": "code",
   "execution_count": 7,
   "metadata": {},
   "outputs": [],
   "source": [
    "# Remove the <sentence> tag\n",
    "for i in range(len(data)):\n",
    "        temp = str(data.iloc[i,1])\n",
    "        temp = temp.replace(\"<sentence\", \"\")\n",
    "        temp = temp.replace(\"</sentence\", \"\")\n",
    "        temp = temp.replace('id=\"s', \"\")\n",
    "        data.iloc[i,1] = temp"
   ]
  },
  {
   "cell_type": "code",
   "execution_count": 8,
   "metadata": {},
   "outputs": [
    {
     "data": {
      "text/html": [
       "<div>\n",
       "<style scoped>\n",
       "    .dataframe tbody tr th:only-of-type {\n",
       "        vertical-align: middle;\n",
       "    }\n",
       "\n",
       "    .dataframe tbody tr th {\n",
       "        vertical-align: top;\n",
       "    }\n",
       "\n",
       "    .dataframe thead th {\n",
       "        text-align: right;\n",
       "    }\n",
       "</style>\n",
       "<table border=\"1\" class=\"dataframe\">\n",
       "  <thead>\n",
       "    <tr style=\"text-align: right;\">\n",
       "      <th></th>\n",
       "      <th>name</th>\n",
       "      <th>sentence</th>\n",
       "    </tr>\n",
       "  </thead>\n",
       "  <tbody>\n",
       "    <tr>\n",
       "      <th>0</th>\n",
       "      <td>[University of Western Australia v Gray (No 21...</td>\n",
       "      <td>[ 0\"&gt;\\n \\n 1 On 17 April 2008 the application ...</td>\n",
       "    </tr>\n",
       "    <tr>\n",
       "      <th>1</th>\n",
       "      <td>[Parker v Parker [2009] FCA 930 (25 August 200...</td>\n",
       "      <td>[ 0\"&gt;\\n INTRODUCTION \\n The applicant seeks re...</td>\n",
       "    </tr>\n",
       "  </tbody>\n",
       "</table>\n",
       "</div>"
      ],
      "text/plain": [
       "                                                name  \\\n",
       "0  [University of Western Australia v Gray (No 21...   \n",
       "1  [Parker v Parker [2009] FCA 930 (25 August 200...   \n",
       "\n",
       "                                            sentence  \n",
       "0  [ 0\">\\n \\n 1 On 17 April 2008 the application ...  \n",
       "1  [ 0\">\\n INTRODUCTION \\n The applicant seeks re...  "
      ]
     },
     "execution_count": 8,
     "metadata": {},
     "output_type": "execute_result"
    }
   ],
   "source": [
    "data.head(2)"
   ]
  },
  {
   "cell_type": "code",
   "execution_count": 9,
   "metadata": {},
   "outputs": [],
   "source": [
    "# change to lower case\n",
    "data['sentence'] = data['sentence'].apply(lambda x: \" \".join(x.lower() for x in x.split()))\n",
    "\n",
    "# remove punctuations\n",
    "data['sentence'] = data['sentence'].str.replace('[^\\w\\s]','')\n",
    "data['name'] = data['name'].str.replace('[^\\w\\s]','')\n",
    "\n",
    "# remove stop words     \n",
    "stop = stopwords.words('english')\n",
    "data['sentence'] = data['sentence'].apply(lambda x: \" \".join(x for x in x.split() if x not in stop))\n",
    "\n",
    "# remove non-english words\n",
    "words = set(words.words())\n",
    "data['sentence'] = data['sentence'].apply(lambda x:\" \".join(x for x in x.split() if x in words))\n",
    "\n",
    "# remove the words which has length less than 2\n",
    "data['sentence'] = data['sentence'].apply(lambda x: \" \".join(x for x in x.split() if len(x) > 1)) "
   ]
  },
  {
   "cell_type": "code",
   "execution_count": 10,
   "metadata": {},
   "outputs": [
    {
     "data": {
      "text/html": [
       "<div>\n",
       "<style scoped>\n",
       "    .dataframe tbody tr th:only-of-type {\n",
       "        vertical-align: middle;\n",
       "    }\n",
       "\n",
       "    .dataframe tbody tr th {\n",
       "        vertical-align: top;\n",
       "    }\n",
       "\n",
       "    .dataframe thead th {\n",
       "        text-align: right;\n",
       "    }\n",
       "</style>\n",
       "<table border=\"1\" class=\"dataframe\">\n",
       "  <thead>\n",
       "    <tr style=\"text-align: right;\">\n",
       "      <th></th>\n",
       "      <th>name</th>\n",
       "      <th>sentence</th>\n",
       "    </tr>\n",
       "  </thead>\n",
       "  <tbody>\n",
       "    <tr>\n",
       "      <th>0</th>\n",
       "      <td>University of Western Australia v Gray No 21 2...</td>\n",
       "      <td>application brought university western gray me...</td>\n",
       "    </tr>\n",
       "    <tr>\n",
       "      <th>1</th>\n",
       "      <td>Parker v Parker 2009 FCA 930 25 August 2009</td>\n",
       "      <td>introduction applicant review decision adminis...</td>\n",
       "    </tr>\n",
       "  </tbody>\n",
       "</table>\n",
       "</div>"
      ],
      "text/plain": [
       "                                                name  \\\n",
       "0  University of Western Australia v Gray No 21 2...   \n",
       "1        Parker v Parker 2009 FCA 930 25 August 2009   \n",
       "\n",
       "                                            sentence  \n",
       "0  application brought university western gray me...  \n",
       "1  introduction applicant review decision adminis...  "
      ]
     },
     "execution_count": 10,
     "metadata": {},
     "output_type": "execute_result"
    }
   ],
   "source": [
    "data.head(2)"
   ]
  },
  {
   "cell_type": "code",
   "execution_count": 11,
   "metadata": {},
   "outputs": [],
   "source": [
    "# Save the cleaned text file to cleaned_data.csv\n",
    "data.to_csv(\"cleaned_data.csv\",',')"
   ]
  },
  {
   "cell_type": "code",
   "execution_count": 12,
   "metadata": {},
   "outputs": [],
   "source": [
    "# Read cleaned data\n",
    "data = pd.read_csv(\"cleaned_data.csv\")"
   ]
  },
  {
   "cell_type": "code",
   "execution_count": 13,
   "metadata": {},
   "outputs": [
    {
     "data": {
      "text/html": [
       "<div>\n",
       "<style scoped>\n",
       "    .dataframe tbody tr th:only-of-type {\n",
       "        vertical-align: middle;\n",
       "    }\n",
       "\n",
       "    .dataframe tbody tr th {\n",
       "        vertical-align: top;\n",
       "    }\n",
       "\n",
       "    .dataframe thead th {\n",
       "        text-align: right;\n",
       "    }\n",
       "</style>\n",
       "<table border=\"1\" class=\"dataframe\">\n",
       "  <thead>\n",
       "    <tr style=\"text-align: right;\">\n",
       "      <th></th>\n",
       "      <th>Unnamed: 0</th>\n",
       "      <th>name</th>\n",
       "      <th>sentence</th>\n",
       "    </tr>\n",
       "  </thead>\n",
       "  <tbody>\n",
       "    <tr>\n",
       "      <th>0</th>\n",
       "      <td>0</td>\n",
       "      <td>University of Western Australia v Gray No 21 2...</td>\n",
       "      <td>application brought university western gray me...</td>\n",
       "    </tr>\n",
       "    <tr>\n",
       "      <th>1</th>\n",
       "      <td>1</td>\n",
       "      <td>Parker v Parker 2009 FCA 930 25 August 2009</td>\n",
       "      <td>introduction applicant review decision adminis...</td>\n",
       "    </tr>\n",
       "  </tbody>\n",
       "</table>\n",
       "</div>"
      ],
      "text/plain": [
       "   Unnamed: 0                                               name  \\\n",
       "0           0  University of Western Australia v Gray No 21 2...   \n",
       "1           1        Parker v Parker 2009 FCA 930 25 August 2009   \n",
       "\n",
       "                                            sentence  \n",
       "0  application brought university western gray me...  \n",
       "1  introduction applicant review decision adminis...  "
      ]
     },
     "execution_count": 13,
     "metadata": {},
     "output_type": "execute_result"
    }
   ],
   "source": [
    "#del data['Unnamed: 0']\n",
    "data.head(2)"
   ]
  }
 ],
 "metadata": {
  "kernelspec": {
   "display_name": "Python 3",
   "language": "python",
   "name": "python3"
  },
  "language_info": {
   "codemirror_mode": {
    "name": "ipython",
    "version": 3
   },
   "file_extension": ".py",
   "mimetype": "text/x-python",
   "name": "python",
   "nbconvert_exporter": "python",
   "pygments_lexer": "ipython3",
   "version": "3.6.4"
  }
 },
 "nbformat": 4,
 "nbformat_minor": 2
}
