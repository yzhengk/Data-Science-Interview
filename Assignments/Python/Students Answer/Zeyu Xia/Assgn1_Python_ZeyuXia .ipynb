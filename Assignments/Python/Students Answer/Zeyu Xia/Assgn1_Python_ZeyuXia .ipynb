{
 "cells": [
  {
   "cell_type": "markdown",
   "metadata": {},
   "source": [
    "# Python Assignment 1 \n",
    "Feb 24 Zeyu Xia"
   ]
  },
  {
   "cell_type": "markdown",
   "metadata": {},
   "source": [
    "### Question1 \n",
    "Given an array of integers, return indices of the two numbers such that they add up to a specific target.\n",
    "You may assume that each input would have exactly one solution, and you may not use the same element twice."
   ]
  },
  {
   "cell_type": "code",
   "execution_count": 1,
   "metadata": {},
   "outputs": [],
   "source": [
    "# Q1\n",
    "def sumTwo(nums,target):\n",
    "    index_dict = {}\n",
    "    for i,element in enumerate(nums):\n",
    "        num = target - element\n",
    "        if num not in index_dict:\n",
    "            index_dict[element] = i\n",
    "        else:\n",
    "            return [index_dict[num],i]"
   ]
  },
  {
   "cell_type": "code",
   "execution_count": 2,
   "metadata": {},
   "outputs": [
    {
     "data": {
      "text/plain": [
       "[0, 1]"
      ]
     },
     "execution_count": 2,
     "metadata": {},
     "output_type": "execute_result"
    }
   ],
   "source": [
    "## Test function\n",
    "sumTwo([2, 7, 11, 15], 9)"
   ]
  },
  {
   "cell_type": "code",
   "execution_count": 3,
   "metadata": {},
   "outputs": [],
   "source": [
    "def sumtwo(nums,target):\n",
    "    for i in range(len(nums)):\n",
    "        for j in range(len(nums)):\n",
    "            if i != j and nums[i] + nums[j] == target:\n",
    "                return i,j            \n",
    "    else:\n",
    "        return"
   ]
  },
  {
   "cell_type": "code",
   "execution_count": 4,
   "metadata": {},
   "outputs": [
    {
     "data": {
      "text/plain": [
       "(0, 1)"
      ]
     },
     "execution_count": 4,
     "metadata": {},
     "output_type": "execute_result"
    }
   ],
   "source": [
    "sumtwo([2, 7, 11, 15], 9)"
   ]
  },
  {
   "cell_type": "markdown",
   "metadata": {},
   "source": [
    "### Question2\n",
    "Given a 32-bit signed integer, reverse digits of an integer."
   ]
  },
  {
   "cell_type": "code",
   "execution_count": 5,
   "metadata": {},
   "outputs": [],
   "source": [
    "#Q2\n",
    "def reverseInteger(num):\n",
    "    if num in range(-2**31,2**31-1):\n",
    "        num = str(num)\n",
    "        if num[0] == '-':\n",
    "            result = '-'+num[1:][::-1]\n",
    "        else:\n",
    "            result = num[::-1]\n",
    "        if int(result) >= 2**31-1 or int(result) <= -2**31: return 0\n",
    "    else:\n",
    "        return 0\n",
    "    return int(result)        "
   ]
  },
  {
   "cell_type": "code",
   "execution_count": 6,
   "metadata": {},
   "outputs": [
    {
     "name": "stdout",
     "output_type": "stream",
     "text": [
      "321\n",
      "-321\n",
      "21\n",
      "0\n"
     ]
    }
   ],
   "source": [
    "## Test function\n",
    "print(reverseInteger(123))\n",
    "print(reverseInteger(-123))\n",
    "print(reverseInteger(120))\n",
    "print(reverseInteger(2**31))"
   ]
  },
  {
   "cell_type": "markdown",
   "metadata": {},
   "source": [
    "### Question 3\n",
    "Roman numerals are represented by seven different symbols: I, V, X, L, C, D and M.\n",
    "For example, two is written as II in Roman numeral, just two one's added together. Twelve is written as, XII, which is simply X + II. The number twenty seven is written as XXVII, which\n",
    "is XX + V + II.\n",
    "Roman numerals are usually written largest to smallest from left to right. However, the numeral for four is not IIII. Instead, the number four is written as IV. Because the one is before the five we subtract it making four. The same principle applies to the number nine, which is written\n",
    "as IX. There are six instances where subtraction is used:\n",
    "• I can be placed before V (5) and X (10) to make 4 and 9.\n",
    "• X can be placed before L (50) and C (100) to make 40 and 90.\n",
    "• C can be placed before D (500) and M (1000) to make 400 and 900.\n",
    " Given a roman numeral, convert it to an integer. Input is guaranteed to be within the range from 1 to 3999."
   ]
  },
  {
   "cell_type": "code",
   "execution_count": 7,
   "metadata": {},
   "outputs": [],
   "source": [
    "#Q3\n",
    "def romanToInt(X): \n",
    "    roman = {'I':1,'V':5,'X':10,'L':50,'C':100,'D':500,'M':1000}\n",
    "    total = 0\n",
    "    if len(X) == 0: \n",
    "        return 0\n",
    "    elif len(X) == 1:\n",
    "        total = roman[X[0]]\n",
    "    else:    \n",
    "        for i in range(len(X)-1):        \n",
    "            total += roman[X[i]]\n",
    "            if roman[X[i]] < roman[X[i+1]]:\n",
    "                total = total-2*roman[X[i]] \n",
    "        total = total + roman[X[i+1]]\n",
    "\n",
    "    return total"
   ]
  },
  {
   "cell_type": "code",
   "execution_count": 8,
   "metadata": {},
   "outputs": [
    {
     "name": "stdout",
     "output_type": "stream",
     "text": [
      "3\n",
      "4\n",
      "9\n",
      "58\n",
      "1994\n"
     ]
    }
   ],
   "source": [
    "#Test function\n",
    "print(romanToInt('III'))\n",
    "print(romanToInt('IV'))\n",
    "print(romanToInt('IX'))\n",
    "print(romanToInt('LVIII'))\n",
    "print(romanToInt('MCMXCIV'))"
   ]
  },
  {
   "cell_type": "code",
   "execution_count": 10,
   "metadata": {},
   "outputs": [
    {
     "name": "stdin",
     "output_type": "stream",
     "text": [
      "Please enter the Roman Numeral: IV\n"
     ]
    },
    {
     "name": "stdout",
     "output_type": "stream",
     "text": [
      "4\n"
     ]
    }
   ],
   "source": [
    "#Test function\n",
    "a = input('Please enter the Roman Numeral:')\n",
    "print(romanToInt(a))"
   ]
  },
  {
   "cell_type": "markdown",
   "metadata": {},
   "source": [
    "### Question 4\n",
    "Write a function to find the longest common prefix string amongst an array of strings. If there is no common prefix, return an empty string \"\"."
   ]
  },
  {
   "cell_type": "code",
   "execution_count": 11,
   "metadata": {},
   "outputs": [],
   "source": [
    "#Q4\n",
    "def commonStr(strs):\n",
    "    if not strs: return ''\n",
    "    short_str,res = min(strs, key=len),''\n",
    "    for i in strs:\n",
    "        for x in range(len(short_str)):\n",
    "            if short_str[x]!= i[x]:\n",
    "                break\n",
    "            else:\n",
    "                x += 1\n",
    "        res = short_str[0:x] \n",
    "    return res"
   ]
  },
  {
   "cell_type": "code",
   "execution_count": 12,
   "metadata": {},
   "outputs": [
    {
     "name": "stdout",
     "output_type": "stream",
     "text": [
      "fl\n",
      "\n"
     ]
    }
   ],
   "source": [
    "test_list1 = [\"flower\",\"flow\",\"flight\"]\n",
    "test_list2 = [\"dog\",\"racecar\",\"car\"]\n",
    "print(commonStr(test_list1))\n",
    "print(commonStr(test_list2))"
   ]
  },
  {
   "cell_type": "code",
   "execution_count": null,
   "metadata": {},
   "outputs": [],
   "source": []
  }
 ],
 "metadata": {
  "kernelspec": {
   "display_name": "Python 3",
   "language": "python",
   "name": "python3"
  },
  "language_info": {
   "codemirror_mode": {
    "name": "ipython",
    "version": 3
   },
   "file_extension": ".py",
   "mimetype": "text/x-python",
   "name": "python",
   "nbconvert_exporter": "python",
   "pygments_lexer": "ipython3",
   "version": "3.7.4"
  }
 },
 "nbformat": 4,
 "nbformat_minor": 4
}
